{
 "cells": [
  {
   "cell_type": "markdown",
   "metadata": {
    "deletable": false
   },
   "source": [
    "# Assignment 4 for Course 1MS041\n",
    "Make         sure you pass the `# ... Test` cells and\n",
    " submit your solution notebook in the corresponding assignment on the course website. You can submit multiple times before the deadline         and your highest score will be used."
   ]
  },
  {
   "cell_type": "markdown",
   "metadata": {
    "deletable": false,
    "lx_assignment_number": "4",
    "lx_assignment_type": "ASSIGNMENT",
    "lx_assignment_type2print": "Assignment",
    "lx_problem_cell_type": "PROBLEM",
    "lx_problem_number": "1",
    "lx_problem_points": "24"
   },
   "source": [
    "---\n",
    "## Assignment 4, PROBLEM 1\n",
    "Maximum Points = 24"
   ]
  },
  {
   "cell_type": "markdown",
   "metadata": {
    "deletable": false,
    "lx_assignment_number": "4",
    "lx_assignment_type": "ASSIGNMENT",
    "lx_assignment_type2print": "Assignment",
    "lx_problem_cell_type": "PROBLEM",
    "lx_problem_number": "1",
    "lx_problem_points": "24"
   },
   "source": [
    "\n",
    "This time the assignment only consists of one problem, but we will do a more comprehensive analysis instead.\n",
    "\n",
    "Consider the dataset `mammography.mat` that you can download from [http://odds.cs.stonybrook.edu/mammography-dataset/](http://odds.cs.stonybrook.edu/mammography-dataset/). Below you can find the code to load this file into `X` and `Y`, you just need to put the file in your `data` folder. During mammography the doctor would be looking for something called `calcification`, which is calcium deposits in the breast tissue and is used as an indicator of cancer. In this dataset the `X` corresponds to some measurements, there are 6 features. The `Y` is a 0-1 label where 1 represents calcification and 0 does not.\n",
    "\n",
    "1. [3p] Split the data into three parts, train/test/validation where train is 60% of the data, test is 15% and validation is 25% of the data. Do not do this randomly, I have prepared a shuffling with a fixed seed, this way I can make sure that we all did the same splits. That is [train,test,validation] is the splitting layout.\n",
    "2. [4p] Train a machine learning model on the training data (you are free to choose it yourself). Hint: you could always try `LogisticRegression`, but for it to work well you would need `StandardScaler` and put everything in a `Pipeline`.\n",
    "3. [3p] Use the classification report from `Utils` and compute the intervals for precision-recall etc on the test set with `union_bound correction` with 95% confidence.\n",
    "4. [3p] You are interested in minimizing the average cost of your classifier, but first we must define it:\n",
    "    * If someone is calcified but classified as not, we say it costs 30 **(this is the worst scenario)** \n",
    "    * If someone is not calcified but classified as calcified, we say it costs 5 **(this probably only costs extra investigation)**\n",
    "    * If someone is calcified but classified as calcified, costs 0 **(We did the right thing, no cost)**\n",
    "    * If someone is not calcified but classified as not, costs 0 **(We did the right thing, no cost)**.\n",
    "\n",
    "complete filling the function `cost` to compute the cost of a prediction model under a certain prediction threshold (recall our precision recall lecture and the `predict_proba` function from trained models). What would be the cost of having a model that always classifies someone as not calcified on the test set?\n",
    "\n",
    "5. [4p] Now, we wish to select the threshold of our classifier that minimizes the cost, we do that by checking say 100 evenly spaced proposal thresholds between 0 and 1, and use our testing data to compute the cost.\n",
    "6. [4p] With your newly computed threshold value, compute the cost of putting this model in production by computing the cost using the validation data. Also provide a confidence interval of the cost using Hoeffdings inequality with a 95% confidence.\n",
    "7. [3p] Let $t$ be the threshold you found and $f$ the model you fitted, if we define the random variable\n",
    "$$\n",
    "    C = 30(1-1_{f(X)\\geq t})Y+5(1-Y)1_{f(X) \\geq t}\n",
    "$$\n",
    "then $C$ denotes the cost of a randomly chosen patient. In the above we are estimating $\\mathbb{E}[C]$ using the empirical mean. However, since the number of calcifications in the population is fairly small and our classifier probably has a fairly high precision for the $0$ class, then $C$ should have fairly small variance. Compute the empirical variance of $C$ on the validation set. What would be the confidence interval if we used Bennett's inequality instead of Hoeffding in point 6 but with the computed empirical variance as our guess for the variance?"
   ]
  },
  {
   "cell_type": "code",
   "execution_count": 34,
   "metadata": {
    "deletable": false,
    "lx_assignment_number": "4",
    "lx_assignment_type": "ASSIGNMENT",
    "lx_assignment_type2print": "Assignment",
    "lx_problem_cell_type": "PROBLEM",
    "lx_problem_number": "1",
    "lx_problem_points": "24"
   },
   "outputs": [],
   "source": [
    "import scipy.io as so  # Importing the scipy.io module for loading data from .mat files.\n",
    "import numpy as np  # Importing the NumPy library for numerical operations.\n",
    "\n",
    "data = so.loadmat('data/mammography.mat')  # Loading data from a MATLAB .mat file located in the 'data' directory.\n",
    "\n",
    "np.random.seed(0)  # Setting the random seed to 0 for reproducibility of random operations.\n",
    "\n",
    "shuffle_index = np.arange(0, len(data['X']))  # Creating an array of indices from 0 to the length of 'X' in the loaded data.\n",
    "\n",
    "np.random.shuffle(shuffle_index)  # Randomly shuffling these indices to randomize the order of the data.\n",
    "\n",
    "X = data['X'][shuffle_index, :]  # Rearranging 'X' data in the loaded dataset according to the shuffled indices.\n",
    "                                  # This step randomizes the rows of 'X' without changing the data in each row.\n",
    "\n",
    "Y = data['y'][shuffle_index, :].flatten()  # Similarly rearranging 'y' data and then flattening it.\n",
    "                                           # 'flatten()' converts 'y' from a 2D array to a 1D array for easier handling.\n"
   ]
  },
  {
   "cell_type": "code",
   "execution_count": 35,
   "metadata": {
    "deletable": false,
    "lx_assignment_number": "4",
    "lx_assignment_type": "ASSIGNMENT",
    "lx_assignment_type2print": "Assignment",
    "lx_problem_cell_type": "PROBLEM",
    "lx_problem_number": "1",
    "lx_problem_points": "24"
   },
   "outputs": [
    {
     "data": {
      "text/plain": [
       "((6709, 6), (1677, 6), (2797, 6), (6709,), (1677,), (2797,))"
      ]
     },
     "execution_count": 35,
     "metadata": {},
     "output_type": "execute_result"
    }
   ],
   "source": [
    "\n",
    "# Part 1\n",
    "train_size = int(0.6 * len(X))  # Calculating the size of the training set as 60% of the total dataset.\n",
    "test_size = int(0.15 * len(X))  # Calculating the size of the test set as 15% of the total dataset.\n",
    "valid_size = int(len(X) - train_size - test_size)  # Calculating the size of the validation set. It's the remainder of the dataset after allocating to training and test sets.\n",
    "\n",
    "X_train = X[:train_size]  # Slicing the first 'train_size' number of instances from X for the training set.\n",
    "X_test = X[train_size:test_size + train_size]  # Slicing the next 'test_size' number of instances from X for the test set.\n",
    "X_valid = X[test_size + train_size:]  # Slicing the remaining instances from X for the validation set.\n",
    "\n",
    "Y_train = Y[:train_size]  # Similarly slicing Y for the training set labels.\n",
    "Y_test = Y[train_size:test_size + train_size]  # Slicing Y for the test set labels.\n",
    "Y_valid = Y[test_size + train_size:]  # Slicing Y for the validation set labels.\n",
    "\n",
    "# Verifying the shapes of the split datasets.\n",
    "# The expected shapes are for the feature matrices (X) to be (6709, 6), (1677, 6), (2797, 6) \n",
    "# and for the label vectors (Y) to be (6709,), (1677,), (2797,)\n",
    "X_train.shape, X_test.shape, X_valid.shape, Y_train.shape, Y_test.shape, Y_valid.shape\n"
   ]
  },
  {
   "cell_type": "code",
   "execution_count": 36,
   "metadata": {
    "deletable": false,
    "lx_assignment_number": "4",
    "lx_assignment_type": "ASSIGNMENT",
    "lx_assignment_type2print": "Assignment",
    "lx_problem_cell_type": "PROBLEM",
    "lx_problem_number": "1",
    "lx_problem_points": "24"
   },
   "outputs": [
    {
     "data": {
      "text/html": [
       "<style>#sk-container-id-2 {color: black;}#sk-container-id-2 pre{padding: 0;}#sk-container-id-2 div.sk-toggleable {background-color: white;}#sk-container-id-2 label.sk-toggleable__label {cursor: pointer;display: block;width: 100%;margin-bottom: 0;padding: 0.3em;box-sizing: border-box;text-align: center;}#sk-container-id-2 label.sk-toggleable__label-arrow:before {content: \"▸\";float: left;margin-right: 0.25em;color: #696969;}#sk-container-id-2 label.sk-toggleable__label-arrow:hover:before {color: black;}#sk-container-id-2 div.sk-estimator:hover label.sk-toggleable__label-arrow:before {color: black;}#sk-container-id-2 div.sk-toggleable__content {max-height: 0;max-width: 0;overflow: hidden;text-align: left;background-color: #f0f8ff;}#sk-container-id-2 div.sk-toggleable__content pre {margin: 0.2em;color: black;border-radius: 0.25em;background-color: #f0f8ff;}#sk-container-id-2 input.sk-toggleable__control:checked~div.sk-toggleable__content {max-height: 200px;max-width: 100%;overflow: auto;}#sk-container-id-2 input.sk-toggleable__control:checked~label.sk-toggleable__label-arrow:before {content: \"▾\";}#sk-container-id-2 div.sk-estimator input.sk-toggleable__control:checked~label.sk-toggleable__label {background-color: #d4ebff;}#sk-container-id-2 div.sk-label input.sk-toggleable__control:checked~label.sk-toggleable__label {background-color: #d4ebff;}#sk-container-id-2 input.sk-hidden--visually {border: 0;clip: rect(1px 1px 1px 1px);clip: rect(1px, 1px, 1px, 1px);height: 1px;margin: -1px;overflow: hidden;padding: 0;position: absolute;width: 1px;}#sk-container-id-2 div.sk-estimator {font-family: monospace;background-color: #f0f8ff;border: 1px dotted black;border-radius: 0.25em;box-sizing: border-box;margin-bottom: 0.5em;}#sk-container-id-2 div.sk-estimator:hover {background-color: #d4ebff;}#sk-container-id-2 div.sk-parallel-item::after {content: \"\";width: 100%;border-bottom: 1px solid gray;flex-grow: 1;}#sk-container-id-2 div.sk-label:hover label.sk-toggleable__label {background-color: #d4ebff;}#sk-container-id-2 div.sk-serial::before {content: \"\";position: absolute;border-left: 1px solid gray;box-sizing: border-box;top: 0;bottom: 0;left: 50%;z-index: 0;}#sk-container-id-2 div.sk-serial {display: flex;flex-direction: column;align-items: center;background-color: white;padding-right: 0.2em;padding-left: 0.2em;position: relative;}#sk-container-id-2 div.sk-item {position: relative;z-index: 1;}#sk-container-id-2 div.sk-parallel {display: flex;align-items: stretch;justify-content: center;background-color: white;position: relative;}#sk-container-id-2 div.sk-item::before, #sk-container-id-2 div.sk-parallel-item::before {content: \"\";position: absolute;border-left: 1px solid gray;box-sizing: border-box;top: 0;bottom: 0;left: 50%;z-index: -1;}#sk-container-id-2 div.sk-parallel-item {display: flex;flex-direction: column;z-index: 1;position: relative;background-color: white;}#sk-container-id-2 div.sk-parallel-item:first-child::after {align-self: flex-end;width: 50%;}#sk-container-id-2 div.sk-parallel-item:last-child::after {align-self: flex-start;width: 50%;}#sk-container-id-2 div.sk-parallel-item:only-child::after {width: 0;}#sk-container-id-2 div.sk-dashed-wrapped {border: 1px dashed gray;margin: 0 0.4em 0.5em 0.4em;box-sizing: border-box;padding-bottom: 0.4em;background-color: white;}#sk-container-id-2 div.sk-label label {font-family: monospace;font-weight: bold;display: inline-block;line-height: 1.2em;}#sk-container-id-2 div.sk-label-container {text-align: center;}#sk-container-id-2 div.sk-container {/* jupyter's `normalize.less` sets `[hidden] { display: none; }` but bootstrap.min.css set `[hidden] { display: none !important; }` so we also need the `!important` here to be able to override the default hidden behavior on the sphinx rendered scikit-learn.org. See: https://github.com/scikit-learn/scikit-learn/issues/21755 */display: inline-block !important;position: relative;}#sk-container-id-2 div.sk-text-repr-fallback {display: none;}</style><div id=\"sk-container-id-2\" class=\"sk-top-container\"><div class=\"sk-text-repr-fallback\"><pre>Pipeline(steps=[(&#x27;scaler&#x27;, StandardScaler()),\n",
       "                (&#x27;logistic_regression&#x27;, LogisticRegression())])</pre><b>In a Jupyter environment, please rerun this cell to show the HTML representation or trust the notebook. <br />On GitHub, the HTML representation is unable to render, please try loading this page with nbviewer.org.</b></div><div class=\"sk-container\" hidden><div class=\"sk-item sk-dashed-wrapped\"><div class=\"sk-label-container\"><div class=\"sk-label sk-toggleable\"><input class=\"sk-toggleable__control sk-hidden--visually\" id=\"sk-estimator-id-4\" type=\"checkbox\" ><label for=\"sk-estimator-id-4\" class=\"sk-toggleable__label sk-toggleable__label-arrow\">Pipeline</label><div class=\"sk-toggleable__content\"><pre>Pipeline(steps=[(&#x27;scaler&#x27;, StandardScaler()),\n",
       "                (&#x27;logistic_regression&#x27;, LogisticRegression())])</pre></div></div></div><div class=\"sk-serial\"><div class=\"sk-item\"><div class=\"sk-estimator sk-toggleable\"><input class=\"sk-toggleable__control sk-hidden--visually\" id=\"sk-estimator-id-5\" type=\"checkbox\" ><label for=\"sk-estimator-id-5\" class=\"sk-toggleable__label sk-toggleable__label-arrow\">StandardScaler</label><div class=\"sk-toggleable__content\"><pre>StandardScaler()</pre></div></div></div><div class=\"sk-item\"><div class=\"sk-estimator sk-toggleable\"><input class=\"sk-toggleable__control sk-hidden--visually\" id=\"sk-estimator-id-6\" type=\"checkbox\" ><label for=\"sk-estimator-id-6\" class=\"sk-toggleable__label sk-toggleable__label-arrow\">LogisticRegression</label><div class=\"sk-toggleable__content\"><pre>LogisticRegression()</pre></div></div></div></div></div></div></div>"
      ],
      "text/plain": [
       "Pipeline(steps=[('scaler', StandardScaler()),\n",
       "                ('logistic_regression', LogisticRegression())])"
      ]
     },
     "execution_count": 36,
     "metadata": {},
     "output_type": "execute_result"
    }
   ],
   "source": [
    "from sklearn.linear_model import LogisticRegression  # Importing the Logistic Regression model from scikit-learn.\n",
    "from sklearn.preprocessing import StandardScaler    # Importing the StandardScaler for feature scaling.\n",
    "from sklearn.pipeline import Pipeline                # Importing Pipeline to sequentially apply a list of transforms and a final estimator.\n",
    "\n",
    "# Part 2\n",
    "# Training a logistic regression model using the training data (X_train, Y_train).\n",
    "\n",
    "# Creating a pipeline with two steps:\n",
    "# 1. 'scaler': StandardScaler() - This will standardize features by removing the mean and scaling to unit variance.\n",
    "#    Standardizing the features is often important for many machine learning algorithms, including logistic regression,\n",
    "#    because it can lead to better performance and more stable models.\n",
    "# 2. 'logistic_regression': LogisticRegression() - This adds the logistic regression model to the pipeline.\n",
    "#    Logistic regression is a good choice for binary classification problems.\n",
    "model = Pipeline([\n",
    "    ('scaler', StandardScaler()),\n",
    "    ('logistic_regression', LogisticRegression())\n",
    "])\n",
    "\n",
    "# Fitting the model to the training data.\n",
    "# The pipeline first applies the standard scaler to the data and then fits the logistic regression model.\n",
    "model.fit(X_train, Y_train)\n",
    "\n"
   ]
  },
  {
   "cell_type": "code",
   "execution_count": 37,
   "metadata": {},
   "outputs": [
    {
     "name": "stdout",
     "output_type": "stream",
     "text": [
      "            labels           precision             recall\n",
      "\n",
      "                 0  0.98 : [0.94,1.00] 1.00 : [0.95,1.00]\n",
      "                 1  0.70 : [0.28,1.00] 0.36 : [0.06,0.66]\n",
      "\n",
      "          accuracy                                        0.98 : [0.94,1.00]\n",
      "\n"
     ]
    }
   ],
   "source": [
    "import sys\n",
    "# Adding a custom path to the system path.\n",
    "# This is necessary to import modules from a non-standard directory.\n",
    "sys.path.append('/path/to/utils_module')\n",
    "\n",
    "# Import the custom utility function.\n",
    "from Utils import classification_report_interval\n",
    "\n",
    "# Defining the true labels and predicted labels for the test set.\n",
    "y_true = Y_test  # True labels from the test set.\n",
    "y_pred = model.predict(X_test)  # Predicted labels obtained by applying the trained model to the test set.\n",
    "\n",
    "# Compute precision and recall intervals using the classification_report_interval function.\n",
    "# The function is expected to return confidence intervals for precision and recall metrics.\n",
    "report = classification_report_interval(\n",
    "    y_true,\n",
    "    y_pred,\n",
    "    labels=None,  # If 'None', the labels are inferred from the true labels (y_true).\n",
    "    alpha = 0.01,  # Significance level for the confidence intervals. Here, it's set to 1% (0.01).\n",
    "    union_bound_correction=True  # Indicates whether to apply union bound correction for the intervals.\n",
    ")\n",
    "\n",
    "# Printing the report which contains the precision and recall intervals.\n",
    "print(report)\n"
   ]
  },
  {
   "cell_type": "code",
   "execution_count": 38,
   "metadata": {
    "deletable": false,
    "lx_assignment_number": "4",
    "lx_assignment_type": "ASSIGNMENT",
    "lx_assignment_type2print": "Assignment",
    "lx_problem_cell_type": "PROBLEM",
    "lx_problem_number": "1",
    "lx_problem_points": "24"
   },
   "outputs": [],
   "source": [
    "\n",
    "# Part 3\n",
    "import sys\n",
    "sys.path.append('/path/to/utils_module')\n",
    "\n",
    "# Compute precision and recall on the test set using \n",
    "from Utils import classification_report_interval\n",
    "y_true = Y_test\n",
    "y_pred =model.predict(X_test)\n",
    "\n",
    "# Each precision and recall should be a tuple, for instance you can write\n",
    "# precision0 = (0.9,0.95)\n",
    "report =classification_report_interval(\n",
    "    y_true,\n",
    "    y_pred,\n",
    "    labels=None,\n",
    "    alpha = 0.01,\n",
    "    union_bound_correction=True\n",
    ")\n",
    "\n",
    "\n",
    "precision0 = (0.94, 1.00)  # Interval for precision of class 0\n",
    "recall0 = (0.96, 1.00)     # Interval for recall of class 0\n",
    "precision1 = (0.33, 1.00)  # Interval for precision of class 1\n",
    "recall1 = (0.09, 0.62)\n",
    "\n",
    "# The code below will check that you supply the proper type\n",
    "assert(type(precision0) == tuple)\n",
    "assert(len(precision0) == 2)\n",
    "assert(type(recall0) == tuple)\n",
    "assert(len(recall0) == 2)\n",
    "assert(type(precision1) == tuple)\n",
    "assert(len(precision1) == 2)\n",
    "assert(type(recall1) == tuple)\n",
    "assert(len(recall1) == 2)"
   ]
  },
  {
   "cell_type": "code",
   "execution_count": 39,
   "metadata": {
    "deletable": false,
    "lx_assignment_number": "4",
    "lx_assignment_type": "ASSIGNMENT",
    "lx_assignment_type2print": "Assignment",
    "lx_problem_cell_type": "PROBLEM",
    "lx_problem_number": "1",
    "lx_problem_points": "24"
   },
   "outputs": [],
   "source": [
    "\n",
    "# Part 4\n",
    "def cost(model, threshold, X, Y):\n",
    "    # Get the probability of the positive class from the model's predictions.\n",
    "    pred_proba = model.predict_proba(X)[:, 1]\n",
    "\n",
    "    # Convert these probabilities to binary predictions based on the specified threshold.\n",
    "    # Predictions are 1 if the probability is greater than or equal to the threshold, 0 otherwise.\n",
    "    predictions = (pred_proba >= threshold) * 1\n",
    "    \n",
    "    # Define the costs associated with different prediction outcomes.\n",
    "    cost_false_negative = 30  # Cost incurred for each false negative prediction.\n",
    "    cost_false_positive = 5   # Cost incurred for each false positive prediction.\n",
    "    # Costs for true positives and true negatives are set to 0, assuming no cost for correct predictions.\n",
    "\n",
    "    # Calculate the number of false negatives and false positives.\n",
    "    false_negatives = ((predictions == 0) & (Y == 1)).sum()  # Count instances where the model predicts 0 (negative) but the actual label is 1 (positive).\n",
    "    false_positives = ((predictions == 1) & (Y == 0)).sum()  # Count instances where the model predicts 1 (positive) but the actual label is 0 (negative).\n",
    "\n",
    "    # Calculate the total cost based on the number of false negatives and positives and their respective costs.\n",
    "    total_cost = (false_negatives * cost_false_negative) + (false_positives * cost_false_positive)\n",
    "\n",
    "    # Compute the average cost per instance in the dataset.\n",
    "    average_cost = total_cost / len(Y)\n",
    "\n",
    "    return average_cost\n"
   ]
  },
  {
   "cell_type": "code",
   "execution_count": 40,
   "metadata": {
    "deletable": false,
    "lx_assignment_number": "4",
    "lx_assignment_type": "ASSIGNMENT",
    "lx_assignment_type2print": "Assignment",
    "lx_problem_cell_type": "PROBLEM",
    "lx_problem_number": "1",
    "lx_problem_points": "24"
   },
   "outputs": [
    {
     "data": {
      "text/plain": [
       "0.6976744186046512"
      ]
     },
     "execution_count": 40,
     "metadata": {},
     "output_type": "execute_result"
    }
   ],
   "source": [
    "\n",
    "# Part 4\n",
    "\n",
    "# Fill in the naive cost of the model that would classify all as non-calcified on the test set\n",
    "\n",
    "naive_cost =cost(model,1,X_test,Y_test)#A threshold of 1 means that the classifier will only predict the positive class (e.g., 'spam' in a spam detection scenario) if it is 100% certain.\n",
    "naive_cost"
   ]
  },
  {
   "cell_type": "code",
   "execution_count": 41,
   "metadata": {
    "deletable": false,
    "lx_assignment_number": "4",
    "lx_assignment_type": "ASSIGNMENT",
    "lx_assignment_type2print": "Assignment",
    "lx_problem_cell_type": "PROBLEM",
    "lx_problem_number": "1",
    "lx_problem_points": "24"
   },
   "outputs": [
    {
     "data": {
      "text/plain": [
       "0.11111111111111112"
      ]
     },
     "execution_count": 41,
     "metadata": {},
     "output_type": "execute_result"
    }
   ],
   "source": [
    "\n",
    "# Part 5\n",
    "# Generate 100 evenly spaced values between 0 and 1.\n",
    "thresholds = np.linspace(0, 1, 100)\n",
    "\n",
    "# Calculate the cost for each threshold value.\n",
    "# This is done by applying the 'cost' function to the model's predictions on the test set (X_test, Y_test)\n",
    "# for each threshold in the 'thresholds' array.\n",
    "costs = [cost(model, t, X_test, Y_test) for t in thresholds]\n",
    "\n",
    "# Find the index of the threshold that results in the lowest cost.\n",
    "# 'np.argmin(costs)' returns the index of the minimum value in the 'costs' array.\n",
    "optimal_index = np.argmin(costs)\n",
    "\n",
    "# Retrieve the optimal threshold value.\n",
    "# This is the threshold corresponding to the lowest cost.\n",
    "optimal_threshold = thresholds[optimal_index]\n",
    "\n",
    "# Calculate the cost at this optimal threshold.\n",
    "# This gives us the minimum average cost achievable by the model on the test data, using the best threshold.\n",
    "cost_at_optimal_threshold = costs[optimal_index]\n"
   ]
  },
  {
   "cell_type": "code",
   "execution_count": 48,
   "metadata": {
    "deletable": false,
    "lx_assignment_number": "4",
    "lx_assignment_type": "ASSIGNMENT",
    "lx_assignment_type2print": "Assignment",
    "lx_problem_cell_type": "PROBLEM",
    "lx_problem_number": "1",
    "lx_problem_points": "24"
   },
   "outputs": [
    {
     "data": {
      "text/plain": [
       "(0, 1.0617676271684535)"
      ]
     },
     "execution_count": 48,
     "metadata": {},
     "output_type": "execute_result"
    }
   ],
   "source": [
    "import math\n",
    "from Utils import epsilon_bounded\n",
    "# Part 6\n",
    "n= len(Y_valid)\n",
    "cost_at_optimal_threshold_validation =cost(model,optimal_threshold,X_valid,Y_valid)\n",
    "# Report the cost interval as a tuple cost_interval = (a,b)\n",
    "bound = epsilon_bounded(n,30,0.05)\n",
    "\n",
    "cost_interval =(max(cost_at_optimal_threshold_validation-bound,0),cost_at_optimal_threshold_validation+bound)\n",
    "\n",
    "# The code below will tell you if you filled in the intervals correctly\n",
    "assert(type(cost_interval) == tuple)\n",
    "assert(len(cost_interval) == 2)\n",
    "cost_interval"
   ]
  },
  {
   "cell_type": "code",
   "execution_count": 54,
   "metadata": {
    "deletable": false,
    "lx_assignment_number": "4",
    "lx_assignment_type": "ASSIGNMENT",
    "lx_assignment_type2print": "Assignment",
    "lx_problem_cell_type": "PROBLEM",
    "lx_problem_number": "1",
    "lx_problem_points": "24"
   },
   "outputs": [
    {
     "data": {
      "text/plain": [
       "6.198613637958541"
      ]
     },
     "execution_count": 54,
     "metadata": {},
     "output_type": "execute_result"
    }
   ],
   "source": [
    "C = 30 * (1 - (model.predict_proba(X_valid)[:, 1] >= optimal_threshold)) * Y_valid + 5 * (1 - Y_valid) * (model.predict_proba(X_valid)[:, 1] >= optimal_threshold)\n",
    "# Part 7\n",
    "\n",
    "variance_of_C = np.var(C)\n",
    "variance_of_C"
   ]
  },
  {
   "cell_type": "code",
   "execution_count": 58,
   "metadata": {
    "deletable": false,
    "lx_assignment_number": "4",
    "lx_assignment_type": "ASSIGNMENT",
    "lx_assignment_type2print": "Assignment",
    "lx_problem_cell_type": "PROBLEM",
    "lx_problem_number": "1",
    "lx_problem_points": "24"
   },
   "outputs": [
    {
     "name": "stdout",
     "output_type": "stream",
     "text": [
      "Numerical error -1.1102230246251565e-16\n"
     ]
    },
    {
     "data": {
      "text/plain": [
       "(0.15091432947852831, 0.431852921147142)"
      ]
     },
     "execution_count": 58,
     "metadata": {},
     "output_type": "execute_result"
    }
   ],
   "source": [
    "from Utils import bennett_epsilon  # Importing the bennett_epsilon function from a custom utility module.\n",
    "import scipy.optimize as so  # Importing the scipy.optimize module for optimization tasks.\n",
    "import numpy as np  # Importing the NumPy library for numerical operations.\n",
    "\n",
    "# Part 7\n",
    "n = len(Y_valid)  # The number of data points in the validation set.\n",
    "alpha = 0.05  # Significance level set to 5%, which is typical for statistical tests.\n",
    "\n",
    "b = 30  # This might represent the maximum possible deviation per observation, used in Bennett's inequality.\n",
    "\n",
    "# Assuming 'variance_of_C' is defined earlier in the code. It's the variance of the random variable C.\n",
    "sigma = np.sqrt(variance_of_C)  # Standard deviation is the square root of the variance.\n",
    "\n",
    "# Calculating the Bennett epsilon value, which is used to establish the confidence interval.\n",
    "# This function likely implements Bennett's inequality to calculate the bound based on provided parameters.\n",
    "epsilon_bennett = bennett_epsilon(n, 30, sigma, 0.05)\n",
    "\n",
    "# Calculating the 95% confidence interval for the random variable C.\n",
    "# The interval is centered around the mean of C, with the width determined by epsilon_bennett.\n",
    "interval_of_C = (np.mean(C) - epsilon_bennett, np.mean(C) + epsilon_bennett)\n",
    "\n",
    "# Assertions to ensure that the interval is a tuple and has two elements (lower and upper bounds).\n",
    "assert(type(interval_of_C) == tuple)\n",
    "assert(len(interval_of_C) == 2)\n",
    "\n",
    "# The interval_of_C is the final result, representing the confidence interval.\n",
    "interval_of_C\n"
   ]
  },
  {
   "cell_type": "code",
   "execution_count": null,
   "metadata": {},
   "outputs": [],
   "source": []
  }
 ],
 "metadata": {
  "kernelspec": {
   "display_name": "Python 3 (ipykernel)",
   "language": "python",
   "name": "python3"
  },
  "language_info": {
   "codemirror_mode": {
    "name": "ipython",
    "version": 3
   },
   "file_extension": ".py",
   "mimetype": "text/x-python",
   "name": "python",
   "nbconvert_exporter": "python",
   "pygments_lexer": "ipython3",
   "version": "3.11.5"
  },
  "lx_assignment_number": 4,
  "lx_course_instance": "2023",
  "lx_course_name": "Introduction to Data Science",
  "lx_course_number": "1MS041"
 },
 "nbformat": 4,
 "nbformat_minor": 4
}
