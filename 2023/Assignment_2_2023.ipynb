{
 "cells": [
  {
   "cell_type": "markdown",
   "metadata": {
    "deletable": false
   },
   "source": [
    "# Assignment 2 for Course 1MS041\n",
    "Make         sure you pass the `# ... Test` cells and\n",
    " submit your solution notebook in the corresponding assignment on the course website. You can submit multiple times before the deadline         and your highest score will be used."
   ]
  },
  {
   "cell_type": "markdown",
   "metadata": {
    "deletable": false,
    "lx_assignment_number": "2",
    "lx_assignment_type": "ASSIGNMENT",
    "lx_assignment_type2print": "Assignment",
    "lx_problem_cell_type": "PROBLEM",
    "lx_problem_number": "1",
    "lx_problem_points": "8"
   },
   "source": [
    "---\n",
    "## Assignment 2, PROBLEM 1\n",
    "Maximum Points = 8"
   ]
  },
  {
   "cell_type": "markdown",
   "metadata": {
    "deletable": false,
    "lx_assignment_number": "2",
    "lx_assignment_type": "ASSIGNMENT",
    "lx_assignment_type2print": "Assignment",
    "lx_problem_cell_type": "PROBLEM",
    "lx_problem_number": "1",
    "lx_problem_points": "8"
   },
   "source": [
    "\n",
    "A courier company operates a fleet of delivery trucks that make deliveries to different parts of the city. The trucks are equipped with GPS tracking devices that record the location of each truck at regular intervals. The locations are divided into three regions: downtown, the suburbs, and the countryside. The following table shows the probabilities of a truck transitioning between these regions at each time step:\n",
    "\n",
    "| Current region | Probability of transitioning to downtown | Probability of transitioning to the suburbs | Probability of transitioning to the countryside |\n",
    "|----------------|--------------------------------------------|-----------------------------------------------|------------------------------------------------|\n",
    "| Downtown       | 0.3                                      | 0.4                                           | 0.3                                            |\n",
    "| Suburbs        | 0.2                                      | 0.5                                           | 0.3                                            |\n",
    "| Countryside    | 0.4                                      | 0.3                                           | 0.3                                            |\n",
    "\n",
    "1. If a truck is currently in the suburbs, what is the probability that it will be in the downtown region after two time steps? [1.5p]\n",
    "2. If a truck is currently in the suburbs, what is the probability that it will be in the downtown region **the first time** after two time steps? [1.5p]\n",
    "3. Is this Markov chain irreducible? [1.5p]\n",
    "4. What is the stationary distribution? [1.5p]\n",
    "5. Advanced question: What is the expected number of steps until the first time one enters the downtown region having started in the suburbs region. Hint: to get within 1 decimal point, it is enough to compute the probabilities for hitting times below 30. [2p]\n",
    "\n"
   ]
  },
  {
   "cell_type": "code",
   "execution_count": 3,
   "metadata": {
    "deletable": false,
    "lx_assignment_number": "2",
    "lx_assignment_type": "ASSIGNMENT",
    "lx_assignment_type2print": "Assignment",
    "lx_problem_cell_type": "PROBLEM",
    "lx_problem_number": "1",
    "lx_problem_points": "14"
   },
   "outputs": [
    {
     "data": {
      "text/plain": [
       "0.28"
      ]
     },
     "execution_count": 3,
     "metadata": {},
     "output_type": "execute_result"
    }
   ],
   "source": [
    "# Part 1\n",
    "# Fill in the answer to part 1 below as a decimal number\n",
    "import numpy as np\n",
    "P = np.array([[0.3,0.4,0.3],\n",
    "             [0.2,0.5,0.3],\n",
    "             [0.4,0.3,0.3]])\n",
    "# Calculate the two-step transition matrix\n",
    "\n",
    "two_step_transition = np.linalg.matrix_power(P,2)\n",
    "# The probability of transitioning from state 2 to state 1 in two steps\n",
    "\n",
    "probability1 = two_step_transition[1,0]\n",
    "probability1"
   ]
  },
  {
   "cell_type": "code",
   "execution_count": 4,
   "metadata": {
    "deletable": false,
    "lx_assignment_number": "2",
    "lx_assignment_type": "ASSIGNMENT",
    "lx_assignment_type2print": "Assignment",
    "lx_problem_cell_type": "PROBLEM",
    "lx_problem_number": "1",
    "lx_problem_points": "14"
   },
   "outputs": [
    {
     "data": {
      "text/plain": [
       "0.22000000000000003"
      ]
     },
     "execution_count": 4,
     "metadata": {},
     "output_type": "execute_result"
    }
   ],
   "source": [
    "# Part 2\n",
    "import numpy as np\n",
    "P = np.array([[0.3,0.4,0.3],\n",
    "             [0.2,0.5,0.3],\n",
    "             [0.4,0.3,0.3]])\n",
    "probability2=probability1-P[1,0]*P[0,0]\n",
    "probability2\n"
   ]
  },
  {
   "cell_type": "code",
   "execution_count": null,
   "metadata": {
    "deletable": false,
    "lx_assignment_number": "2",
    "lx_assignment_type": "ASSIGNMENT",
    "lx_assignment_type2print": "Assignment",
    "lx_problem_cell_type": "PROBLEM",
    "lx_problem_number": "1",
    "lx_problem_points": "14"
   },
   "outputs": [],
   "source": [
    "# Part 3\n",
    "\n",
    "# Fill in the answer to part 3 below as a boolean\n",
    "problem1_irreducible = True"
   ]
  },
  {
   "cell_type": "code",
   "execution_count": 6,
   "metadata": {
    "deletable": false,
    "lx_assignment_number": "2",
    "lx_assignment_type": "ASSIGNMENT",
    "lx_assignment_type2print": "Assignment",
    "lx_problem_cell_type": "PROBLEM",
    "lx_problem_number": "1",
    "lx_problem_points": "14"
   },
   "outputs": [
    {
     "data": {
      "text/plain": [
       "array([0.28888889, 0.41111111, 0.3       ])"
      ]
     },
     "execution_count": 6,
     "metadata": {},
     "output_type": "execute_result"
    }
   ],
   "source": [
    "# Part 4\n",
    "import numpy as np\n",
    "\n",
    "# Define the Transition Matrix for the Markov Chain\n",
    "P = np.array([[0.3, 0.4, 0.3],\n",
    "              [0.2, 0.5, 0.3],\n",
    "              [0.4, 0.3, 0.3]])\n",
    "\n",
    "# Transpose the Transition Matrix and subtract it from an identity matrix of the same size.\n",
    "# Transposing is necessary because the standard convention in linear algebra (used by numpy)\n",
    "# assumes column vectors for state distributions, while Markov chains typically use row vectors.\n",
    "A = (P.T - np.eye(3))\n",
    "\n",
    "# Modify the last row of matrix A to be all ones. This step is done to incorporate the constraint\n",
    "# that the sum of all probabilities in a stationary distribution must equal 1.\n",
    "A[-1:] = 1\n",
    "\n",
    "# Define a vector 'b' for the linear equation Ax = b. The last element is set to 1,\n",
    "# corresponding to the probability constraint, and others are set to 0.\n",
    "b = np.array([0, 0, 1])\n",
    "\n",
    "# Solve the linear system Ax = b to find the stationary distribution.\n",
    "# np.linalg.solve is a function that solves linear systems.\n",
    "# The result, 'stationary_distribution', is the vector that represents the long-term\n",
    "# probabilities of being in each state of the Markov Chain.\n",
    "stationary_distribution = np.linalg.solve(A, b)\n",
    "\n",
    "# Output the calculated stationary distribution\n",
    "stationary_distribution\n"
   ]
  },
  {
   "cell_type": "code",
   "execution_count": 11,
   "metadata": {
    "deletable": false,
    "lx_assignment_number": "2",
    "lx_assignment_type": "ASSIGNMENT",
    "lx_assignment_type2print": "Assignment",
    "lx_problem_cell_type": "PROBLEM",
    "lx_problem_number": "1",
    "lx_problem_points": "14"
   },
   "outputs": [
    {
     "data": {
      "text/plain": [
       "3.846153846153845"
      ]
     },
     "execution_count": 11,
     "metadata": {},
     "output_type": "execute_result"
    }
   ],
   "source": [
    "# Part 5\n",
    "# Initialize the expected number of steps from the suburbs and the city to zero.\n",
    "es = 0\n",
    "ec = 0\n",
    "\n",
    "# Set the transition probabilities: 'ess' is the probability of moving from suburbs to suburbs,\n",
    "# 'esc' is the probability of moving from suburbs to city, and 'ecs' is the probability of moving from city to suburbs.\n",
    "ess = 0.5\n",
    "esc = 0.3\n",
    "ecs = 0.3\n",
    "\n",
    "# Start a loop to iteratively calculate the expected number of steps. The loop runs 10,000 times to approximate the result.\n",
    "for _ in range(10000):\n",
    "    # Calculate the new expected number of steps from the suburbs (es) using the current values of es and ec.\n",
    "    # This is based on the idea that the expected number of steps from the suburbs is 1 (the current step) plus\n",
    "    # the weighted average of the expected steps from the next possible states (staying in suburbs or moving to city).\n",
    "    new_es = 1 + ess * es + esc * ec\n",
    "\n",
    "    # Similarly, calculate the new expected number of steps from the city (ec) using the current values of es and ec.\n",
    "    # This accounts for the current step plus the weighted average of the expected steps from the next possible states\n",
    "    # (moving to suburbs or staying in city).\n",
    "    new_ec = 1 + esc * es + ecs * ec\n",
    "\n",
    "    # Update the expected number of steps for both suburbs and city with the newly calculated values.\n",
    "    es, ec = new_es, new_ec\n",
    "\n",
    "# After completing the iterations, output the final calculated expected number of steps from the suburbs.\n",
    "new_es\n",
    "\n",
    "# Fill in the answer to part 5 below\n",
    "# That is, the expected number of steps as a decimal number\n"
   ]
  },
  {
   "cell_type": "markdown",
   "metadata": {
    "deletable": false,
    "lx_assignment_number": "2",
    "lx_assignment_type": "ASSIGNMENT",
    "lx_assignment_type2print": "Assignment",
    "lx_problem_cell_type": "PROBLEM",
    "lx_problem_number": "2",
    "lx_problem_points": "8"
   },
   "source": [
    "---\n",
    "## Assignment 2, PROBLEM 2\n",
    "Maximum Points = 8"
   ]
  },
  {
   "cell_type": "markdown",
   "metadata": {
    "deletable": false,
    "lx_assignment_number": "2",
    "lx_assignment_type": "ASSIGNMENT",
    "lx_assignment_type2print": "Assignment",
    "lx_problem_cell_type": "PROBLEM",
    "lx_problem_number": "2",
    "lx_problem_points": "8"
   },
   "source": [
    "\n",
    "A healthcare organization is interested in understanding the relationship between the number of visits to the doctors office and certain patient characteristics. \n",
    "They have collected data on the number of visits (for a year) for a sample of patients and have included the following variables\n",
    "\n",
    "* ofp : number of physician office visits\n",
    "* ofnp : number of nonphysician office visits\n",
    "* opp : number of physician outpatient visits\n",
    "* opnp : number of nonphysician outpatient visits\n",
    "* emr : number of emergency room visits\n",
    "* hosp : number of hospitalizations\n",
    "* exclhlth : the person is of excellent health (self-perceived)\n",
    "* poorhealth : the person is of poor health (self-perceived)\n",
    "* numchron : number of chronic conditions\n",
    "* adldiff : the person has a condition that limits activities of daily living ?\n",
    "* noreast : the person is from the north east region\n",
    "* midwest : the person is from the midwest region\n",
    "* west : the person is from the west region\n",
    "* age : age in years (divided by 10)\n",
    "* male : is the person male ?\n",
    "* married : is the person married ?\n",
    "* school : number of years of education\n",
    "* faminc : family income in 10000$\n",
    "* employed : is the person employed ?\n",
    "* privins : is the person covered by private health insurance?\n",
    "* medicaid : is the person covered by medicaid ?\n",
    "\n",
    "Decide which patient features are resonable to use to predict the target \"number of physician office visits\". Hint: should we really use the \"ofnp\" etc variables?\n",
    "\n",
    "Since the target variable is counts, a reasonable loss function is to consider the target variable as Poisson distributed where the parameter follows $\\lambda = \\exp(\\alpha \\cdot x + \\beta)$ where $\\alpha$ is a vector (slope) and $\\beta$ is a number (intercept). That is, the parameter is the exponential of a linear function. The reason we chose this as our parameter, is that it is always positive which is when the Poisson distribution is defined. To be specific we make the following assumption about our conditional density of $Y \\mid X$,\n",
    "$$\n",
    "    f_{Y \\mid X} (y,x) = \\frac{\\lambda^{y} e^{-\\lambda}}{y !}, \\quad \\lambda(x) = \\exp(\\alpha \\cdot x + \\beta).\n",
    "$$\n",
    "\n",
    "Recall from the lecture notes, (4.2) that in this case we should consider the log-loss (entropy) and that according to (4.2.1 Maximum Likelihood and regression) we can consider the conditional log-likelihood. Follow the steps of Example 1 and Example 2 in section (4.2) to derive the loss that needs to be minimized.\n",
    "\n",
    "Hint: when taking the log of the conditional density you will find that the term that contains the $y!$ does not depend on $\\lambda$ and as such does not depend on $\\alpha,\\beta$, it can thus be discarded. This will be essential due to numerical issues with factorials.\n",
    "\n",
    "Instructions:\n",
    "\n",
    "1. Load the file `data/visits_clean.csv`, follow the instructions in the code cell of how this should happen [1.5p]\n",
    "2. Create the `problem2_X` and the `problem2_y` as numpy arrays with `problem2_X` being the features and `problem2_y` being the target. Do the standard train-test split with 80% training data and 20% testing data. Store these in the variables defined in the cells. [1.5p]\n",
    "3. Implement $loss$ inside the class `PoissonRegression` by writing down the loss to be minimized, I have provided a formula for the $\\lambda$ that you can use. [1.5p]\n",
    "4. Now use the `PoissonRegression` class to train a Poisson regression model on the training data. [1.5p]\n",
    "5. Compute the mean absolute error of your prediction on the test set and use Hoeffdings inequality to produce a 95\\% confidence interval for the mean absolute error. We can make the assumption that the error is bounded by 70 for simplicity. [2p]\n"
   ]
  },
  {
   "cell_type": "code",
   "execution_count": 80,
   "metadata": {},
   "outputs": [],
   "source": [
    "# Part 1\n",
    "\n",
    "# As in assignment 1 we will load the header into header and data into data\n",
    "# this time you will have to parse the data such that each data entry is a float\n",
    "# and that the problem2_data is a numpy array of shape (n_samples,n_columns)\n",
    "# where n_columns is the number of columns and should have the same length as\n",
    "# the list of strings header. n_samples is how many rows of data we had.\n",
    "# If you cannot find the file, check the starting package as it should be updated\n",
    "# if not, go to the github repo and pull it\n",
    "\n",
    "# The autograder does not accept pandas as a solution to this problem.\n",
    "# data/visits_clean.csv\n",
    "import csv\n",
    "import numpy as np\n",
    "\n",
    "# Initialize an empty list to store the data\n",
    "data = []\n",
    "header = []\n",
    "# Open the CSV file and read the data\n",
    "with open(\"data/visits_clean.csv\", mode = \"r\") as file:\n",
    "    # Read the first line for the header\n",
    "    reader =csv.reader(file, delimiter=' ') \n",
    "    header = next(reader)\n",
    "    for row in reader:\n",
    "        data.append([float(value) for value in row])\n",
    "data = np.array(data)\n"
   ]
  },
  {
   "cell_type": "code",
   "execution_count": 81,
   "metadata": {
    "deletable": false,
    "lx_assignment_number": "2",
    "lx_assignment_type": "ASSIGNMENT",
    "lx_assignment_type2print": "Assignment",
    "lx_problem_cell_type": "PROBLEM",
    "lx_problem_number": "2",
    "lx_problem_points": "8"
   },
   "outputs": [
    {
     "data": {
      "text/plain": [
       "array([[ 0.,  0.,  0., ...,  0.,  1.,  0.],\n",
       "       [ 8.,  0.,  0., ...,  0.,  0.,  0.],\n",
       "       [14.,  0.,  3., ...,  0.,  1.,  0.],\n",
       "       ...,\n",
       "       [ 0.,  0.,  0., ...,  0.,  1.,  0.],\n",
       "       [ 0.,  0.,  0., ...,  1.,  1.,  0.],\n",
       "       [ 0.,  0.,  0., ...,  0.,  1.,  0.]])"
      ]
     },
     "execution_count": 81,
     "metadata": {},
     "output_type": "execute_result"
    }
   ],
   "source": [
    "# Assign all columns except the first one as features (X) and the first column as the target (Y) from the 'data' array.\n",
    "X = data[:, 1:]\n",
    "Y = data[:, 0]\n",
    "\n",
    "# Generate an array of indices ranging from 0 to the number of rows in the 'data' array.\n",
    "indice = np.arange(data.shape[0])\n",
    "\n",
    "# Shuffle the indices randomly. This randomization is crucial for splitting the data into training and testing sets.\n",
    "np.random.shuffle(indice)\n",
    "\n",
    "# Define the ratio of data to be used for training. Here, 80% of the data is set aside for training.\n",
    "train_ratio = 0.8\n",
    "\n",
    "# Calculate the number of samples to be included in the training set. The `np.ceil` function ensures that \n",
    "# the number is rounded up to the nearest integer.\n",
    "train_sample = int(np.ceil(data.shape[0] * train_ratio))\n",
    "\n",
    "# Using the shuffled indices, select the first 80% of the data as the training set for both features (x_train) and target (y_train).\n",
    "x_train = X[indice[:train_sample]]\n",
    "y_train = Y[indice[:train_sample]]\n",
    "\n",
    "# Similarly, select the remaining 20% of the data as the testing set for both features (x_test) and target (y_test).\n",
    "x_test = X[indice[train_sample:]]\n",
    "y_test = Y[indice[train_sample:]]\n",
    "\n",
    "\n",
    "\n",
    "\n",
    "\n",
    "# Split the data into train and randomly using for instance\n",
    "# np.random.shuffle indices and indexing the first 80% as the train data\n",
    "# keep the train size as 0.8 rounded up to the nearest integer sample\n",
    "#problem2_X_train, problem2_X_test, problem2_y_train, problem2_y_test = XXX\n",
    "x_train"
   ]
  },
  {
   "cell_type": "code",
   "execution_count": 82,
   "metadata": {
    "deletable": false,
    "lx_assignment_number": "2",
    "lx_assignment_type": "ASSIGNMENT",
    "lx_assignment_type2print": "Assignment",
    "lx_problem_cell_type": "PROBLEM",
    "lx_problem_number": "2",
    "lx_problem_points": "8"
   },
   "outputs": [],
   "source": [
    "# Part 3\n",
    "\n",
    "# Fill in the function loss below\n",
    "\n",
    "class PoissonRegression(object):\n",
    "    def __init__(self):\n",
    "        self.coeffs = None\n",
    "        self.result = None\n",
    "    \n",
    "    # define the objective/cost/loss function we want to minimise\n",
    "    def loss(self,X,Y,coeffs):\n",
    "        \n",
    "        \n",
    "        # The parameter lambda for the given X and the proposed values \n",
    "        # of the coefficients, here coeff[:-1] represent alpha \n",
    "        # and coeff[-1] represent beta\n",
    "        lam = np.exp(np.dot(X,coeffs[:-1])+coeffs[-1])\n",
    "        neg_loss_function =-np.mean(Y*np.log(lam)-lam)\n",
    "                # The mean is taken to average the losses over all data points.\n",
    "\n",
    "        # use the Y variable that is available here to define \n",
    "        # the loss function, return the value of the loss for \n",
    "        # this Y and for this parameter lam defined above\n",
    "        return neg_loss_function\n",
    "\n",
    "    def fit(self,X,Y):\n",
    "        import numpy as np\n",
    "        from scipy import optimize\n",
    "\n",
    "        #Use the loss above together with an optimization method from scipy\n",
    "        #to find the coefficients of the model\n",
    "        #this is prepared for you below\n",
    "        opt_loss = lambda coeffs: self.loss(X,Y,coeffs)\n",
    "        initial_arguments = np.zeros(shape=X.shape[1]+1) # initial guess as 0\n",
    "        self.result = optimize.minimize(opt_loss, initial_arguments,method='cg')\n",
    "        self.coeffs = self.result.x\n",
    "    \n",
    "    def predict(self,X):\n",
    "        #Use the trained model to predict Y\n",
    "        if (self.coeffs is not None):\n",
    "            return np.exp(np.dot(X,self.coeffs[:-1])+self.coeffs[-1])"
   ]
  },
  {
   "cell_type": "code",
   "execution_count": null,
   "metadata": {
    "deletable": false,
    "lx_assignment_number": "2",
    "lx_assignment_type": "ASSIGNMENT",
    "lx_assignment_type2print": "Assignment",
    "lx_problem_cell_type": "PROBLEM",
    "lx_problem_number": "2",
    "lx_problem_points": "8"
   },
   "outputs": [],
   "source": []
  },
  {
   "cell_type": "code",
   "execution_count": 83,
   "metadata": {
    "deletable": false,
    "lx_assignment_number": "2",
    "lx_assignment_type": "ASSIGNMENT",
    "lx_assignment_type2print": "Assignment",
    "lx_problem_cell_type": "PROBLEM",
    "lx_problem_number": "2",
    "lx_problem_points": "8"
   },
   "outputs": [
    {
     "name": "stdout",
     "output_type": "stream",
     "text": [
      " message: Optimization terminated successfully.\n",
      " success: True\n",
      "  status: 0\n",
      "     fun: -4.9646743604683605\n",
      "       x: [ 2.060e-02 -1.239e-03 ...  2.858e-01  1.247e+00]\n",
      "     nit: 1319\n",
      "     jac: [-6.616e-06 -9.775e-06 ...  1.788e-07 -7.570e-06]\n",
      "    nfev: 50072\n",
      "    njev: 2276\n"
     ]
    }
   ],
   "source": [
    "# Part 4\n",
    "\n",
    "# Initialize your PoissonRegression model\n",
    "problem2_model = PoissonRegression()\n",
    "\n",
    "# Fit your initialized model on the training data\n",
    "problem2_model.fit(x_train,y_train)\n",
    "\n",
    "# This is to make sure that everything went well, \n",
    "# check that success is True\n",
    "print(problem2_model.result)"
   ]
  },
  {
   "cell_type": "code",
   "execution_count": 98,
   "metadata": {
    "deletable": false,
    "lx_assignment_number": "2",
    "lx_assignment_type": "ASSIGNMENT",
    "lx_assignment_type2print": "Assignment",
    "lx_problem_cell_type": "PROBLEM",
    "lx_problem_number": "2",
    "lx_problem_points": "8"
   },
   "outputs": [
    {
     "data": {
      "text/plain": [
       "(0.75095448862688, 7.15673885768577)"
      ]
     },
     "execution_count": 98,
     "metadata": {},
     "output_type": "execute_result"
    }
   ],
   "source": [
    "from scipy import optimize\n",
    "import scipy.special\n",
    "from sklearn.metrics import mean_absolute_error\n",
    "import math\n",
    "prediction = problem2_model.predict(x_test)\n",
    "actural_value = y_test\n",
    "# Part 5\n",
    "MAE= mean_absolute_error(prediction,actural_value)\n",
    "# Put the computed mean absolute error in the variable below\n",
    "a= 0\n",
    "b= 70\n",
    "alpha =0.05\n",
    "n= len(y_test)\n",
    "t = np.sqrt((np.log(2/alpha)*(b-a)**2)/(2*n))\n",
    "\n",
    "l_edge = max(MAE-t,a)\n",
    "r_edge = min(MAE+t,b)\n",
    "problem2_interval=(l_edge, r_edge)\n",
    "# Put a confidence interval in the variable below by using Hoeffdings inequality using the bounds\n",
    "# a = 0, b=70 (roughly 5 days between visits as minimum)\n",
    "# the variable should contain a tuple representing the confidence interval of the form (l_edge,r_edge)\n",
    "problem2_interval \n"
   ]
  },
  {
   "cell_type": "markdown",
   "metadata": {
    "deletable": false,
    "lx_assignment_number": "2",
    "lx_assignment_type": "ASSIGNMENT",
    "lx_assignment_type2print": "Assignment",
    "lx_problem_cell_type": "PROBLEM",
    "lx_problem_number": "3",
    "lx_problem_points": "8"
   },
   "source": [
    "---\n",
    "## Assignment 2, PROBLEM 3\n",
    "Maximum Points = 8"
   ]
  },
  {
   "cell_type": "markdown",
   "metadata": {
    "deletable": false,
    "lx_assignment_number": "2",
    "lx_assignment_type": "ASSIGNMENT",
    "lx_assignment_type2print": "Assignment",
    "lx_problem_cell_type": "PROBLEM",
    "lx_problem_number": "3",
    "lx_problem_points": "8"
   },
   "source": [
    "\n",
    "## Random variable generation and transformation\n",
    "\n",
    "The purpose of this problem is to show that you can implement your own sampler, this will be built in the following three steps:\n",
    "\n",
    "1. [2p] Implement a Linear Congruential Generator where you tested out a good combination (a large $M$ with $a,b$ satisfying the Hull-Dobell (Thm 6.8)) of parameters. Follow the instructions in the code block.\n",
    "2. [2p] Using a generator construct random numbers from the uniform $[0,1]$ distribution.\n",
    "3. [4p] Using a uniform $[0,1]$ random generator, generate samples from \n",
    "\n",
    "$$p_0(x) = \\frac{\\pi}{2}|\\sin(2\\pi x)|, \\quad x \\in [0,1] \\enspace .$$\n",
    "\n",
    "Using the **Accept-Reject** sampler (**Algorithm 1** in TFDS notes) with sampling density given by the uniform $[0,1]$ distribution."
   ]
  },
  {
   "cell_type": "code",
   "execution_count": 6,
   "metadata": {
    "deletable": false,
    "lx_assignment_number": "2",
    "lx_assignment_type": "ASSIGNMENT",
    "lx_assignment_type2print": "Assignment",
    "lx_problem_cell_type": "PROBLEM",
    "lx_problem_number": "3",
    "lx_problem_points": "8"
   },
   "outputs": [],
   "source": [
    "def problem3_LCG(size=None, seed=0):\n",
    "    # Initialize an empty list to store the generated pseudo-random numbers.\n",
    "    out = []\n",
    "\n",
    "    # Define the modulus M, multiplier a, and increment b as per the Hull-Dobell Theorem.\n",
    "    M = 2 ** 32\n",
    "    a = 1664525\n",
    "    b = 1013904223\n",
    "\n",
    "    # Initialize the state variable with the seed value.\n",
    "    state = seed\n",
    "\n",
    "    # Iterate 'size' times to generate 'size' pseudo-random numbers.\n",
    "    for _ in range(size):\n",
    "        # Update the state using the linear congruential generator formula.\n",
    "        state = (a * seed + b) % M\n",
    "\n",
    "        # Normalize the state to the range [0, 1) and append to the output list.\n",
    "        out.append(state / M)\n",
    "\n",
    "    # Return the list of generated pseudo-random numbers.\n",
    "    return out\n"
   ]
  },
  {
   "cell_type": "code",
   "execution_count": 7,
   "metadata": {
    "deletable": false,
    "lx_assignment_number": "2",
    "lx_assignment_type": "ASSIGNMENT",
    "lx_assignment_type2print": "Assignment",
    "lx_problem_cell_type": "PROBLEM",
    "lx_problem_number": "3",
    "lx_problem_points": "8"
   },
   "outputs": [],
   "source": [
    "\n",
    "def problem3_uniform(generator=None, period=1, size=None, seed=0):\n",
    "    # Generate pseudo-random numbers using the provided generator function.\n",
    "    random_numbers = generator(size=size, seed=seed)\n",
    "\n",
    "    # Initialize an empty list to store the uniform pseudo-random numbers.\n",
    "    uniform_random_numbers = []\n",
    "\n",
    "    # Iterate through the generated pseudo-random numbers.\n",
    "    for number in random_numbers:\n",
    "        # Normalize each number to the range [0, 1) based on the generator's period.\n",
    "        normalized_number = number / period\n",
    "\n",
    "        # Append the normalized number to the uniform random numbers list.\n",
    "        uniform_random_numbers.append(normalized_number)\n",
    "\n",
    "    # Return the list of uniform pseudo-random numbers.\n",
    "    return uniform_random_numbers\n"
   ]
  },
  {
   "cell_type": "code",
   "execution_count": 8,
   "metadata": {
    "deletable": false,
    "lx_assignment_number": "2",
    "lx_assignment_type": "ASSIGNMENT",
    "lx_assignment_type2print": "Assignment",
    "lx_problem_cell_type": "PROBLEM",
    "lx_problem_number": "3",
    "lx_problem_points": "8"
   },
   "outputs": [],
   "source": [
    "def problem3_accept_reject(uniformGenerator=None, n_iterations=None, seed=0):\n",
    "    # Initialize an empty list to store the samples generated from the target distribution.\n",
    "    samples = []\n",
    "\n",
    "    # Initialize the current seed value.\n",
    "    current_seed = seed\n",
    "\n",
    "    # Define the constant M, the upper bound for the function (pi/2).\n",
    "    M = np.pi / 2\n",
    "\n",
    "    # Run the accept-reject algorithm until the desired number of samples is obtained.\n",
    "    while len(samples) < n_iterations:\n",
    "        # Generate a pseudo-random number X from the uniform [0,1] distribution.\n",
    "        X = uniformGenerator(size=1, seed=current_seed)[0]\n",
    "\n",
    "        # Increment the seed to get a new random number in the next iteration.\n",
    "        current_seed += 1\n",
    "\n",
    "        # Compute the function value at X, scaled by pi/2.\n",
    "        f_x = (np.pi / 2) * abs(np.sin(X * 2 * np.pi))\n",
    "\n",
    "        # Generate another pseudo-random number u from the uniform [0,1] distribution.\n",
    "        u = uniformGenerator(size=1, seed=current_seed)[0]\n",
    "\n",
    "        # Increment the seed again for the next iteration.\n",
    "        current_seed += 1\n",
    "\n",
    "        # Check if the generated number u is less than or equal to the scaled function value.\n",
    "        # If true, accept X as a sample from the target distribution.\n",
    "        if u <= f_x / M:\n",
    "            samples.append(X)\n",
    "\n",
    "    # Return the list of samples generated from the target distribution.\n",
    "    return samples\n"
   ]
  },
  {
   "cell_type": "markdown",
   "metadata": {
    "deletable": false,
    "lx_assignment_number": "2",
    "lx_assignment_type": "ASSIGNMENT",
    "lx_assignment_type2print": "Assignment",
    "lx_problem_cell_type": "Test",
    "lx_problem_number": "3",
    "lx_problem_points": "8"
   },
   "source": [
    "---\n",
    "#### Local Test for Assignment 2, PROBLEM 3\n",
    "Evaluate cell below to make sure your answer is valid.                             You **should not** modify anything in the cell below when evaluating it to do a local test of                             your solution.\n",
    "You may need to include and evaluate code snippets from lecture notebooks in cells above to make the local test work correctly sometimes (see error messages for clues). This is meant to help you become efficient at recalling materials covered in lectures that relate to this problem. Such local tests will generally not be available in the exam."
   ]
  },
  {
   "cell_type": "code",
   "execution_count": 9,
   "metadata": {
    "deletable": false,
    "lx_assignment_number": "2",
    "lx_assignment_type": "ASSIGNMENT",
    "lx_assignment_type2print": "Assignment",
    "lx_problem_cell_type": "Test",
    "lx_problem_number": "3",
    "lx_problem_points": "8"
   },
   "outputs": [
    {
     "name": "stdout",
     "output_type": "stream",
     "text": [
      "LCG output: [0.23645552527159452, 0.23645552527159452, 0.23645552527159452, 0.23645552527159452, 0.23645552527159452, 0.23645552527159452, 0.23645552527159452, 0.23645552527159452, 0.23645552527159452, 0.23645552527159452]\n",
      "Uniform sampler [5.505409214449919e-11, 5.505409214449919e-11, 5.505409214449919e-11, 5.505409214449919e-11, 5.505409214449919e-11, 5.505409214449919e-11, 5.505409214449919e-11, 5.505409214449919e-11, 5.505409214449919e-11, 5.505409214449919e-11]\n",
      "Accept-Reject sampler [5.505409214449919e-11, 5.523456030661483e-11, 5.5415028468730476e-11, 5.559549663084612e-11, 5.577596479296176e-11, 5.5956432955077406e-11, 5.613690111719305e-11, 5.6317369279308693e-11, 5.6497837441424337e-11, 5.667830560353998e-11, 5.6858773765655624e-11, 5.703924192777127e-11, 5.721971008988691e-11, 5.7400178252002554e-11, 5.75806464141182e-11, 5.776111457623384e-11, 5.7941582738349484e-11, 5.812205090046513e-11, 5.830251906258077e-11, 5.848298722469641e-11]\n"
     ]
    }
   ],
   "source": [
    "\n",
    "# If you managed to solve all three parts you can test the following code to see if it runs\n",
    "# you have to change the period to match your LCG though, this is marked as XXX.\n",
    "# It is a very good idea to check these things using the histogram function in sagemath\n",
    "# try with a larger number of samples, up to 10000 should run\n",
    "\n",
    "print(\"LCG output: %s\" % problem3_LCG(size=10, seed = 1))\n",
    "\n",
    "period = 2**32\n",
    "\n",
    "print(\"Uniform sampler %s\" % problem3_uniform(generator=problem3_LCG, period = period, size=10, seed=1))\n",
    "\n",
    "uniform_sampler = lambda size,seed: problem3_uniform(generator=problem3_LCG, period = period, size=size, seed=seed)\n",
    "\n",
    "print(\"Accept-Reject sampler %s\" % problem3_accept_reject(uniformGenerator = uniform_sampler,n_iterations=20,seed=1))"
   ]
  },
  {
   "cell_type": "code",
   "execution_count": 10,
   "metadata": {
    "deletable": false,
    "lx_assignment_number": "2",
    "lx_assignment_type": "ASSIGNMENT",
    "lx_assignment_type2print": "Assignment",
    "lx_problem_cell_type": "Test",
    "lx_problem_number": "3",
    "lx_problem_points": "8"
   },
   "outputs": [
    {
     "name": "stdout",
     "output_type": "stream",
     "text": [
      "Accept-Reject sampler [0.23796462709189137, 0.32383276483316237, 0.2590084917154736, 0.6484972199788831, 0.6820045605879779, 0.20985124453651727, 0.38102068999577143, 0.2718754143840908, 0.35184625582788265, 0.243517762709337, 0.22418547484732643, 0.414743999308679, 0.6842409524120733, 0.32375334582076565, 0.27981547357298786, 0.799115369116727, 0.14533616183328069, 0.1995887063541001, 0.14595480067964695, 0.08109066462388448]\n"
     ]
    }
   ],
   "source": [
    "\n",
    "# If however you did not manage to implement either part 1 or part 2 but still want to check part 3, you can run the code below\n",
    "\n",
    "def testUniformGenerator(size,seed):\n",
    "    import random\n",
    "    random.seed(seed)\n",
    "    \n",
    "    return [random.uniform(0,1) for s in range(size)]\n",
    "\n",
    "print(\"Accept-Reject sampler %s\" % problem3_accept_reject(uniformGenerator=testUniformGenerator, n_iterations=20, seed=1))"
   ]
  },
  {
   "cell_type": "code",
   "execution_count": null,
   "metadata": {},
   "outputs": [],
   "source": []
  },
  {
   "cell_type": "code",
   "execution_count": null,
   "metadata": {},
   "outputs": [],
   "source": []
  }
 ],
 "metadata": {
  "kernelspec": {
   "display_name": "Python 3 (ipykernel)",
   "language": "python",
   "name": "python3"
  },
  "language_info": {
   "codemirror_mode": {
    "name": "ipython",
    "version": 3
   },
   "file_extension": ".py",
   "mimetype": "text/x-python",
   "name": "python",
   "nbconvert_exporter": "python",
   "pygments_lexer": "ipython3",
   "version": "3.11.5"
  },
  "lx_assignment_number": 2,
  "lx_course_instance": "2023",
  "lx_course_name": "Introduction to Data Science",
  "lx_course_number": "1MS041"
 },
 "nbformat": 4,
 "nbformat_minor": 4
}
